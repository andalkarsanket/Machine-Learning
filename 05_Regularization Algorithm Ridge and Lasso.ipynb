{
 "cells": [
  {
   "cell_type": "code",
   "execution_count": 1,
   "metadata": {},
   "outputs": [],
   "source": [
    "import pandas as pd\n",
    "import numpy as np\n",
    "import matplotlib.pyplot as plt\n",
    "import seaborn as sns"
   ]
  },
  {
   "cell_type": "code",
   "execution_count": 2,
   "metadata": {},
   "outputs": [
    {
     "data": {
      "text/html": [
       "<div>\n",
       "<style scoped>\n",
       "    .dataframe tbody tr th:only-of-type {\n",
       "        vertical-align: middle;\n",
       "    }\n",
       "\n",
       "    .dataframe tbody tr th {\n",
       "        vertical-align: top;\n",
       "    }\n",
       "\n",
       "    .dataframe thead th {\n",
       "        text-align: right;\n",
       "    }\n",
       "</style>\n",
       "<table border=\"1\" class=\"dataframe\">\n",
       "  <thead>\n",
       "    <tr style=\"text-align: right;\">\n",
       "      <th></th>\n",
       "      <th>RM</th>\n",
       "      <th>LSTAT</th>\n",
       "      <th>PTRATIO</th>\n",
       "      <th>MEDV</th>\n",
       "    </tr>\n",
       "  </thead>\n",
       "  <tbody>\n",
       "    <tr>\n",
       "      <th>0</th>\n",
       "      <td>6.575</td>\n",
       "      <td>4.98</td>\n",
       "      <td>15.3</td>\n",
       "      <td>504000.0</td>\n",
       "    </tr>\n",
       "    <tr>\n",
       "      <th>1</th>\n",
       "      <td>6.421</td>\n",
       "      <td>9.14</td>\n",
       "      <td>17.8</td>\n",
       "      <td>453600.0</td>\n",
       "    </tr>\n",
       "    <tr>\n",
       "      <th>2</th>\n",
       "      <td>7.185</td>\n",
       "      <td>4.03</td>\n",
       "      <td>17.8</td>\n",
       "      <td>728700.0</td>\n",
       "    </tr>\n",
       "    <tr>\n",
       "      <th>3</th>\n",
       "      <td>6.998</td>\n",
       "      <td>2.94</td>\n",
       "      <td>18.7</td>\n",
       "      <td>701400.0</td>\n",
       "    </tr>\n",
       "    <tr>\n",
       "      <th>4</th>\n",
       "      <td>7.147</td>\n",
       "      <td>5.33</td>\n",
       "      <td>18.7</td>\n",
       "      <td>760200.0</td>\n",
       "    </tr>\n",
       "  </tbody>\n",
       "</table>\n",
       "</div>"
      ],
      "text/plain": [
       "      RM  LSTAT  PTRATIO      MEDV\n",
       "0  6.575   4.98     15.3  504000.0\n",
       "1  6.421   9.14     17.8  453600.0\n",
       "2  7.185   4.03     17.8  728700.0\n",
       "3  6.998   2.94     18.7  701400.0\n",
       "4  7.147   5.33     18.7  760200.0"
      ]
     },
     "execution_count": 2,
     "metadata": {},
     "output_type": "execute_result"
    }
   ],
   "source": [
    "df=pd.read_csv(\"../Dataset for practice/housing.csv\")\n",
    "df.head()"
   ]
  },
  {
   "cell_type": "code",
   "execution_count": 3,
   "metadata": {},
   "outputs": [],
   "source": [
    "x=df.drop(columns=\"MEDV\")\n",
    "y=df[\"MEDV\"]"
   ]
  },
  {
   "cell_type": "code",
   "execution_count": 4,
   "metadata": {},
   "outputs": [],
   "source": [
    "from sklearn.model_selection import train_test_split\n",
    "xtrain,xtest,ytrain,ytest=train_test_split(x,y,test_size=0.2,random_state=0)"
   ]
  },
  {
   "cell_type": "code",
   "execution_count": 5,
   "metadata": {},
   "outputs": [
    {
     "name": "stdout",
     "output_type": "stream",
     "text": [
      "(391, 3)\n",
      "(98, 3)\n",
      "(391,)\n",
      "(98,)\n"
     ]
    }
   ],
   "source": [
    "print(xtrain.shape)\n",
    "print(xtest.shape)\n",
    "print(ytrain.shape)\n",
    "print(ytest.shape)"
   ]
  },
  {
   "cell_type": "code",
   "execution_count": 6,
   "metadata": {},
   "outputs": [
    {
     "name": "stdout",
     "output_type": "stream",
     "text": [
      "LR Coefficients : [ 82131.07271594 -11531.40087939 -19425.18723615]\n"
     ]
    }
   ],
   "source": [
    "from sklearn.linear_model import LinearRegression\n",
    "from sklearn.linear_model import Ridge\n",
    "from sklearn.linear_model import Lasso\n",
    "# Linear model\n",
    "lr=LinearRegression()\n",
    "lr.fit(xtrain,ytrain)\n",
    "print(\"LR Coefficients :\",lr.coef_)"
   ]
  },
  {
   "cell_type": "code",
   "execution_count": 7,
   "metadata": {},
   "outputs": [
    {
     "name": "stdout",
     "output_type": "stream",
     "text": [
      "Ridge Coefficient : [ 82052.7056329  -11535.52526012 -19426.02193535]\n"
     ]
    }
   ],
   "source": [
    "#Ridge Model \n",
    "ridge=Ridge(alpha=0.1)\n",
    "ridge.fit(xtrain,ytrain)\n",
    "print(\"Ridge Coefficient :\",ridge.coef_)"
   ]
  },
  {
   "cell_type": "code",
   "execution_count": 8,
   "metadata": {},
   "outputs": [
    {
     "name": "stdout",
     "output_type": "stream",
     "text": [
      "Lasso Coefficient : [ 82130.851335   -11531.41526053 -19425.16627829]\n"
     ]
    }
   ],
   "source": [
    "#Lasso Model\n",
    "lasso=Lasso(alpha=0.1)\n",
    "lasso.fit(xtrain,ytrain)\n",
    "print(\"Lasso Coefficient :\",lasso.coef_)"
   ]
  },
  {
   "cell_type": "markdown",
   "metadata": {},
   "source": [
    "### Result on Training and Testing Dataset"
   ]
  },
  {
   "cell_type": "code",
   "execution_count": 9,
   "metadata": {},
   "outputs": [
    {
     "name": "stdout",
     "output_type": "stream",
     "text": [
      "Linear Regression on training data 0.7326740414596575\n",
      "Linear Regression on testing data 0.6574622113312862\n",
      "Ridge Regression on training data 0.7326739811258268\n",
      "Ridge Regression on testing data 0.6574315578258965\n",
      "Lasso Regression on training data 0.7326740414590787\n",
      "Lasso Regression on testing data 0.6574621167499852\n"
     ]
    }
   ],
   "source": [
    "print('Linear Regression on training data',lr.score(xtrain,ytrain))\n",
    "print('Linear Regression on testing data',lr.score(xtest,ytest))\n",
    "print('Ridge Regression on training data',ridge.score(xtrain,ytrain))\n",
    "print('Ridge Regression on testing data',ridge.score(xtest,ytest))\n",
    "print('Lasso Regression on training data',lasso.score(xtrain,ytrain))\n",
    "print('Lasso Regression on testing data',lasso.score(xtest,ytest))"
   ]
  },
  {
   "cell_type": "markdown",
   "metadata": {},
   "source": [
    "### Polynomial Regression"
   ]
  },
  {
   "cell_type": "code",
   "execution_count": 10,
   "metadata": {},
   "outputs": [],
   "source": [
    "from sklearn.preprocessing import PolynomialFeatures\n",
    "pf=PolynomialFeatures(degree=5)\n",
    "poly_xtrain=pf.fit_transform(xtrain)\n",
    "poly_xtest=pf.fit_transform(xtest)"
   ]
  },
  {
   "cell_type": "code",
   "execution_count": 11,
   "metadata": {},
   "outputs": [
    {
     "name": "stdout",
     "output_type": "stream",
     "text": [
      "LR Coefficients : [ 2.56063086e+03 -3.66341723e+08 -6.35418938e+07 -9.70223797e+07\n",
      " -1.01546444e+07  2.04436009e+07  8.22465068e+07  2.62093464e+05\n",
      "  6.90496692e+06 -6.07470289e+06  1.02706728e+07 -1.00721878e+06\n",
      " -9.42761731e+06 -7.23025875e+04 -2.69244813e+06 -2.87760160e+06\n",
      "  6.82927668e+03 -3.90816663e+04 -7.98284911e+04  7.22093249e+05\n",
      " -8.46538403e+05 -6.76807052e+04  1.34237006e+05  5.76600126e+02\n",
      "  1.81311604e+05  4.22271465e+05 -2.56714538e+02  8.33367683e+03\n",
      "  8.42295293e+04 -9.66084815e+03 -2.76225920e+01 -5.40664868e+02\n",
      "  1.51255093e+03 -7.94068795e+03 -1.87121119e+04  1.87729869e+04\n",
      "  3.58060270e+03  1.15067809e+04  1.82713303e+02 -9.35732154e+02\n",
      " -1.25259879e+04 -2.04796194e+01 -1.02688293e+02 -4.71309309e+03\n",
      " -2.52421898e+03 -3.66482195e+00  3.89535852e+01 -2.59319065e+02\n",
      " -3.47048163e+02  6.39138535e+02 -1.87601984e-01  3.33643201e+00\n",
      "  2.54621265e+00 -9.15635831e-01  1.46130321e+02  1.51346118e+02]\n"
     ]
    }
   ],
   "source": [
    "lr=LinearRegression()\n",
    "lr.fit(poly_xtrain,ytrain)\n",
    "print(\"LR Coefficients :\",lr.coef_)"
   ]
  },
  {
   "cell_type": "code",
   "execution_count": 12,
   "metadata": {},
   "outputs": [
    {
     "name": "stdout",
     "output_type": "stream",
     "text": [
      "Ridge Coefficient : [ 0.00000000e+00  5.66985800e+03 -1.36218315e+03 -2.29425834e+04\n",
      "  5.61218692e+03  4.97519944e+04 -3.88298435e+03 -2.00293049e+05\n",
      " -1.15306856e+05 -2.06451624e+05 -6.11544076e+04  5.27031960e+04\n",
      " -4.16738866e+04  7.69092519e+03  6.87877484e+03  1.28605635e+04\n",
      "  3.95060060e+03  2.34238773e+04  1.24041974e+04  1.72943406e+04\n",
      " -2.40906942e+04 -1.87587789e+04  5.97613100e+04  1.76313122e+03\n",
      "  4.73627564e+03 -2.80525691e+04 -2.28964063e+01 -2.35947979e+03\n",
      " -1.46605051e+03  6.10579768e+03 -6.83732492e+00 -4.06928193e+02\n",
      " -4.59816385e+02 -6.86621016e+02 -1.07670874e+03  8.73703950e+02\n",
      "  1.76739789e+03 -1.15584378e+03  4.73655690e+01 -1.10189914e+03\n",
      " -8.80036629e+02 -6.86572718e+00 -1.02590366e+02  4.68730811e+02\n",
      "  8.04726632e+02 -2.52241260e+00  1.40142960e+01  8.41901860e+01\n",
      " -8.87278081e+01 -2.24370977e+02 -2.16936243e-01  2.06816159e+00\n",
      "  5.66246582e+00 -5.06168909e+00  2.43591131e+01  2.66820544e+01]\n"
     ]
    },
    {
     "name": "stderr",
     "output_type": "stream",
     "text": [
      "C:\\Users\\asus\\anaconda3\\lib\\site-packages\\sklearn\\linear_model\\_ridge.py:147: LinAlgWarning: Ill-conditioned matrix (rcond=1.32747e-18): result may not be accurate.\n",
      "  return linalg.solve(A, Xy, sym_pos=True,\n"
     ]
    }
   ],
   "source": [
    "#Ridge Model \n",
    "ridge=Ridge(alpha=0.1)\n",
    "ridge.fit(poly_xtrain,ytrain)\n",
    "print(\"Ridge Coefficient :\",ridge.coef_)"
   ]
  },
  {
   "cell_type": "code",
   "execution_count": 13,
   "metadata": {},
   "outputs": [
    {
     "name": "stdout",
     "output_type": "stream",
     "text": [
      "Lasso Coefficient : [ 0.00000000e+00  2.59279503e+04  6.38393122e+03  7.96419620e+04\n",
      "  2.33213373e+04  1.03668532e+03 -7.08561283e+03 -2.21842025e+02\n",
      "  2.40798292e+02  6.47201949e+02  1.44188681e+03 -1.34232272e+01\n",
      " -4.01808421e+02 -4.06130304e+00  3.00884154e+01 -1.39793540e+02\n",
      " -6.46354956e+00  5.35704678e+00 -4.06540725e+00  1.80928511e+01\n",
      "  3.47187095e+01 -4.96694931e+01  1.35337994e+01  2.73096169e+00\n",
      "  8.55669741e+00 -1.01954141e+01 -5.99445136e-01  2.11765823e+00\n",
      " -1.62202451e+00 -4.40439259e+00  6.61568042e-02 -1.28651207e-01\n",
      " -2.80046632e-01 -4.16666822e-01  7.09683810e-01 -1.72262426e+01\n",
      " -1.20831147e+01  8.26732923e+00 -5.03020392e-01  2.69171187e+00\n",
      "  6.84253120e-01 -7.80665099e-02  5.57130975e-01 -2.36570368e-01\n",
      " -6.02402917e-01  1.07870756e-02  3.70414283e-02 -2.05671146e-03\n",
      " -1.16802016e-01 -1.60173958e-01  1.26959160e-02 -8.97935678e-03\n",
      " -2.09107180e-02 -2.49716704e-02 -1.24326167e-02  3.02087604e-02]\n"
     ]
    },
    {
     "name": "stderr",
     "output_type": "stream",
     "text": [
      "C:\\Users\\asus\\anaconda3\\lib\\site-packages\\sklearn\\linear_model\\_coordinate_descent.py:529: ConvergenceWarning: Objective did not converge. You might want to increase the number of iterations. Duality gap: 735657996060.5669, tolerance: 1055202253.7340155\n",
      "  model = cd_fast.enet_coordinate_descent(\n"
     ]
    }
   ],
   "source": [
    "#Lasso Model\n",
    "lasso=Lasso(alpha=0.1)\n",
    "lasso.fit(poly_xtrain,ytrain)\n",
    "print(\"Lasso Coefficient :\",lasso.coef_)"
   ]
  },
  {
   "cell_type": "markdown",
   "metadata": {},
   "source": [
    "### Result on Training and Testing Dataset"
   ]
  },
  {
   "cell_type": "code",
   "execution_count": 14,
   "metadata": {},
   "outputs": [
    {
     "name": "stdout",
     "output_type": "stream",
     "text": [
      "Linear Regression on training data 0.8915913313585392\n",
      "Linear Regression on testing data 0.7864928157503236\n",
      "Ridge Regression on training data 0.8835138371697787\n",
      "Ridge Regression on testing data 0.787176152654683\n",
      "Lasso Regression on training data 0.8605665869053603\n",
      "Lasso Regression on testing data 0.7741804066733289\n"
     ]
    }
   ],
   "source": [
    "print('Linear Regression on training data',lr.score(poly_xtrain,ytrain))\n",
    "print('Linear Regression on testing data',lr.score(poly_xtest,ytest))\n",
    "print('Ridge Regression on training data',ridge.score(poly_xtrain,ytrain))\n",
    "print('Ridge Regression on testing data',ridge.score(poly_xtest,ytest))\n",
    "print('Lasso Regression on training data',lasso.score(poly_xtrain,ytrain))\n",
    "print('Lasso Regression on testing data',lasso.score(poly_xtest,ytest))"
   ]
  },
  {
   "cell_type": "code",
   "execution_count": null,
   "metadata": {},
   "outputs": [],
   "source": []
  }
 ],
 "metadata": {
  "kernelspec": {
   "display_name": "Python 3",
   "language": "python",
   "name": "python3"
  },
  "language_info": {
   "codemirror_mode": {
    "name": "ipython",
    "version": 3
   },
   "file_extension": ".py",
   "mimetype": "text/x-python",
   "name": "python",
   "nbconvert_exporter": "python",
   "pygments_lexer": "ipython3",
   "version": "3.8.5"
  }
 },
 "nbformat": 4,
 "nbformat_minor": 4
}
